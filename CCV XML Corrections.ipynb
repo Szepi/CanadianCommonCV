{
 "cells": [
  {
   "cell_type": "code",
   "execution_count": 218,
   "metadata": {
    "collapsed": true
   },
   "outputs": [],
   "source": [
    "import xml.etree.ElementTree as ET\n",
    "import uuid\n",
    "# Just a note: as of 08/04/2016, CCV import treats all bibtex sources the same\n",
    "# I exported from DBLP. CCV import fails on author entries that have {} in them; these I removed first\n",
    "# Then I could import the bibtex file and almost all fields were correctly treated.\n",
    "# Of course, refereed = Yes is not set; student names and generally author name formatting instructions\n",
    "# during import were not respected. \n",
    "# I used this notebook to correct most of these problems."
   ]
  },
  {
   "cell_type": "code",
   "execution_count": 219,
   "metadata": {
    "collapsed": false
   },
   "outputs": [],
   "source": [
    "tree = ET.parse('CCV-10080116-withpubs.xml')"
   ]
  },
  {
   "cell_type": "code",
   "execution_count": 220,
   "metadata": {
    "collapsed": true
   },
   "outputs": [],
   "source": [
    "root = tree.getroot()"
   ]
  },
  {
   "cell_type": "code",
   "execution_count": 221,
   "metadata": {
    "collapsed": false
   },
   "outputs": [
    {
     "data": {
      "text/plain": [
       "'{http://www.cihr-irsc.gc.ca/generic-cv/1.0.0}generic-cv'"
      ]
     },
     "execution_count": 221,
     "metadata": {},
     "output_type": "execute_result"
    }
   ],
   "source": [
    "root.tag"
   ]
  },
  {
   "cell_type": "code",
   "execution_count": 222,
   "metadata": {
    "collapsed": false
   },
   "outputs": [
    {
     "data": {
      "text/plain": [
       "{'dateTimeGenerated': '2016-04-08 23:08:45', 'lang': 'en'}"
      ]
     },
     "execution_count": 222,
     "metadata": {},
     "output_type": "execute_result"
    }
   ],
   "source": [
    "root.attrib"
   ]
  },
  {
   "cell_type": "code",
   "execution_count": 223,
   "metadata": {
    "collapsed": false
   },
   "outputs": [
    {
     "name": "stdout",
     "output_type": "stream",
     "text": [
      "section {'label': 'Personal Information', 'id': 'f589cbc028c64fdaa783da01647e5e3c'}\n",
      "section {'label': 'Education', 'id': '0d82220f95f043e0bc9608bbb6bf413a'}\n",
      "section {'label': 'Recognitions', 'recordId': '37c62d8c8e1d4ec0897832eb30fabb28', 'id': '47c6295f7c2743c08d2db3fa6f6f0f52'}\n",
      "section {'label': 'User Profile', 'recordId': 'e96894da52eb4b04a25e61c5871756a1', 'id': '5c6aca5ad9da4e3d90e5a4d4d876d2b8'}\n",
      "section {'label': 'Employment', 'id': '94b1e26073ae476da13ede5baf1f1cc0'}\n",
      "section {'label': 'Research Funding History', 'recordId': '470b07896b5c4649af2ec40cb7c44d6d', 'id': 'aaedc5454412483d9131f7619d10279e'}\n",
      "section {'label': 'Research Funding History', 'recordId': 'a02cca027e684226b81e0e715f330faf', 'id': 'aaedc5454412483d9131f7619d10279e'}\n",
      "section {'label': 'Research Funding History', 'recordId': '5f24ed886e4045d88aacff735f6f0d29', 'id': 'aaedc5454412483d9131f7619d10279e'}\n",
      "section {'label': 'Research Funding History', 'recordId': '2512bcf3e7ab49a7a7c401f770f02089', 'id': 'aaedc5454412483d9131f7619d10279e'}\n",
      "section {'label': 'Research Funding History', 'recordId': 'cbf3f68a63044f66a638df4992d32dc0', 'id': 'aaedc5454412483d9131f7619d10279e'}\n",
      "section {'label': 'Research Funding History', 'recordId': 'e5641eccef9c4bd3a3468b01b460d052', 'id': 'aaedc5454412483d9131f7619d10279e'}\n",
      "section {'label': 'Research Funding History', 'recordId': 'db235c72aa2b4fb48995f776e07edb29', 'id': 'aaedc5454412483d9131f7619d10279e'}\n",
      "section {'label': 'Research Funding History', 'recordId': 'c1aae80c17bd4eaa9ad805448d946c03', 'id': 'aaedc5454412483d9131f7619d10279e'}\n",
      "section {'label': 'Activities', 'id': '95c29504d0aa4b51b84659cafaf2b38d'}\n",
      "section {'label': 'Memberships', 'id': 'ee130288917f4e23adcc800a94ae355c'}\n",
      "section {'label': 'Contributions', 'id': '047ec63e32fe450e943cb678339e8102'}\n"
     ]
    }
   ],
   "source": [
    "def print_children(node):\n",
    "    for child in node:\n",
    "        print(child.tag, child.attrib)\n",
    "print_children(root)"
   ]
  },
  {
   "cell_type": "code",
   "execution_count": 224,
   "metadata": {
    "collapsed": false
   },
   "outputs": [],
   "source": [
    "def find_child(node,label):\n",
    "    for child in node:\n",
    "        if child.attrib['label']==label:\n",
    "            break\n",
    "    return child\n",
    "contributions = find_child(root,'Contributions')"
   ]
  },
  {
   "cell_type": "code",
   "execution_count": 225,
   "metadata": {
    "collapsed": false
   },
   "outputs": [
    {
     "data": {
      "text/plain": [
       "{'id': '047ec63e32fe450e943cb678339e8102', 'label': 'Contributions'}"
      ]
     },
     "execution_count": 225,
     "metadata": {},
     "output_type": "execute_result"
    }
   ],
   "source": [
    "contributions.attrib"
   ]
  },
  {
   "cell_type": "code",
   "execution_count": 226,
   "metadata": {
    "collapsed": false
   },
   "outputs": [
    {
     "name": "stdout",
     "output_type": "stream",
     "text": [
      "section {'label': 'Presentations', 'recordId': '0e09c364d6bf4048a8192d1f03adf2ff', 'id': 'c7ce6f054e0941ea8b27127dbd4a26d0'}\n",
      "section {'label': 'Presentations', 'recordId': '1183f44f9ddf4e6c8788e46da30ea06e', 'id': 'c7ce6f054e0941ea8b27127dbd4a26d0'}\n",
      "section {'label': 'Presentations', 'recordId': '1d35d3b7bc314206b4ea4bd84a506956', 'id': 'c7ce6f054e0941ea8b27127dbd4a26d0'}\n",
      "section {'label': 'Presentations', 'recordId': '2ab78a8d495e46a6a0c5d55ae43e4dfc', 'id': 'c7ce6f054e0941ea8b27127dbd4a26d0'}\n",
      "section {'label': 'Presentations', 'recordId': '467bdfad1b0f43109b56d9b8cbd0b4db', 'id': 'c7ce6f054e0941ea8b27127dbd4a26d0'}\n",
      "section {'label': 'Presentations', 'recordId': '59b7951bd3e44a88bda6c8b5e96c8464', 'id': 'c7ce6f054e0941ea8b27127dbd4a26d0'}\n",
      "section {'label': 'Presentations', 'recordId': '8a95a8a3901d4585b61efbe3f9b8183d', 'id': 'c7ce6f054e0941ea8b27127dbd4a26d0'}\n",
      "section {'label': 'Presentations', 'recordId': 'a1f7f840a3454d6cb83c01b3028e64e8', 'id': 'c7ce6f054e0941ea8b27127dbd4a26d0'}\n",
      "section {'label': 'Presentations', 'recordId': 'ac91aa3aa4294c929d0ede280e45f834', 'id': 'c7ce6f054e0941ea8b27127dbd4a26d0'}\n",
      "section {'label': 'Presentations', 'recordId': 'd7e478c3e90e4ad181beea86e5a8c292', 'id': 'c7ce6f054e0941ea8b27127dbd4a26d0'}\n",
      "section {'label': 'Presentations', 'recordId': 'be93195c229c4fb297b9bd47a216fc2d', 'id': 'c7ce6f054e0941ea8b27127dbd4a26d0'}\n",
      "section {'label': 'Interviews and Media Relations', 'id': 'ec6a032c4286497fbc2c7e5c64f02fbf'}\n",
      "section {'label': 'Publications', 'id': '46e8f57e67db48b29d84dda77cf0ef51'}\n"
     ]
    }
   ],
   "source": [
    "print_children(contributions)"
   ]
  },
  {
   "cell_type": "code",
   "execution_count": 227,
   "metadata": {
    "collapsed": false
   },
   "outputs": [
    {
     "data": {
      "text/plain": [
       "410"
      ]
     },
     "execution_count": 227,
     "metadata": {},
     "output_type": "execute_result"
    }
   ],
   "source": [
    "publications = find_child(contributions,'Publications')\n",
    "len(publications)"
   ]
  },
  {
   "cell_type": "code",
   "execution_count": 228,
   "metadata": {
    "collapsed": false
   },
   "outputs": [
    {
     "name": "stdout",
     "output_type": "stream",
     "text": [
      "section {'label': 'Journal Articles', 'recordId': '0175e533d4b94c5eb5d9672993a8e301', 'id': '9a34d6b273914f18b2273e8de7c48fd6'}\n",
      "section {'label': 'Journal Articles', 'recordId': '128c121916204b5f87962d6e01183f0e', 'id': '9a34d6b273914f18b2273e8de7c48fd6'}\n",
      "section {'label': 'Journal Articles', 'recordId': '1512424a2a9e4a4c9c16dff35ca21577', 'id': '9a34d6b273914f18b2273e8de7c48fd6'}\n",
      "section {'label': 'Journal Articles', 'recordId': '1c576478507c4bb28471083b509c0d8a', 'id': '9a34d6b273914f18b2273e8de7c48fd6'}\n",
      "section {'label': 'Journal Articles', 'recordId': '3b9adb06079e46d192690c851ea1ddb0', 'id': '9a34d6b273914f18b2273e8de7c48fd6'}\n",
      "section {'label': 'Journal Articles', 'recordId': '58dd4a76a7a84c93be27496fd59af84c', 'id': '9a34d6b273914f18b2273e8de7c48fd6'}\n",
      "section {'label': 'Journal Articles', 'recordId': '7eefbe3a262a4c4d9c16dbaf6025340d', 'id': '9a34d6b273914f18b2273e8de7c48fd6'}\n",
      "section {'label': 'Journal Articles', 'recordId': '818c6603cf2a4e71bc6252a8bc2b7b54', 'id': '9a34d6b273914f18b2273e8de7c48fd6'}\n",
      "section {'label': 'Journal Articles', 'recordId': '82614006f290424ebd001a8727e5b0ff', 'id': '9a34d6b273914f18b2273e8de7c48fd6'}\n",
      "section {'label': 'Journal Articles', 'recordId': '9b866f1842774af0859dc80a5d189f05', 'id': '9a34d6b273914f18b2273e8de7c48fd6'}\n"
     ]
    }
   ],
   "source": [
    "print_children(publications[0:10])"
   ]
  },
  {
   "cell_type": "code",
   "execution_count": 229,
   "metadata": {
    "collapsed": false
   },
   "outputs": [
    {
     "name": "stdout",
     "output_type": "stream",
     "text": [
      "{'Books', 'Book Chapters', 'Encyclopedia Entries', 'Conference Publications', 'Journal Articles'}\n",
      "field {'label': 'Article Title', 'id': 'f3fd4878d47c4e83aef6959620ba4870'}\n",
      "field {'label': 'Journal', 'id': '5c04ea4dae464499807d0b40b4cad049'}\n",
      "field {'label': 'Volume', 'id': '0a826c656ff34e579dfcbfb373771260'}\n",
      "field {'label': 'Issue', 'id': 'cc1d9e14945b4e8496641dbe22b3448a'}\n",
      "field {'label': 'Page Range', 'id': '00ba1799ece344dc8d0779a3f05a4df8'}\n",
      "field {'label': 'Publishing Status', 'id': '3b56e4362d6a495aa5d22a1de5914741'}\n",
      "field {'label': 'Year', 'id': '6fafe258e19e49a7884428cb49d75424'}\n",
      "field {'label': 'Publisher', 'id': '4ad593960aba4a21bf154fa8daf37f9f'}\n",
      "field {'label': 'Publication Location', 'id': '4c3bc805ceaa42259f014514fc4905f8'}\n",
      "field {'label': 'Description / Contribution Value', 'id': '1167905d079c4400ae7a4a76a203a445'}\n",
      "field {'label': 'URL', 'id': '478545acac5340c0a73b7e0d2a4bee06'}\n",
      "field {'label': 'Refereed?', 'id': '2089ff1a86844b6c9a10fc63469f9a9d'}\n",
      "field {'label': 'Open Access?', 'id': '51b7eaff05444990af823b9d80924f5b'}\n",
      "field {'label': 'Synthesis?', 'id': 'b779cc6478bd4b09b516c6d55e938583'}\n",
      "field {'label': 'Contribution Role', 'id': '289c8814fff141d89b12569d49aa2cb3'}\n",
      "field {'label': 'Number of Contributors', 'id': 'dc7922dfa04348a3a83c9afb5bbaa24a'}\n",
      "field {'label': 'Authors', 'id': 'bc3b428d99384b04bb749311bb804e1d'}\n",
      "field {'label': 'Editors', 'id': '707a6e0ca58341a5a82fb923b2842530'}\n",
      "field {'label': 'DOI', 'id': '375a0e2ea0914291b05b0529c4755aa7'}\n",
      "field {'label': 'Contribution Percentage', 'id': '9afd9e28df47464faf3f9ee2c4809e25'}\n",
      "field {'label': 'Description of Contribution Role', 'id': '9f2e163dfcbf4abdb73e9d5c4daf03c4'}\n"
     ]
    }
   ],
   "source": [
    "pub_types = set( [pub.attrib['label'] for pub in publications])\n",
    "print(pub_types)\n",
    "print_children(publications[0])"
   ]
  },
  {
   "cell_type": "code",
   "execution_count": 230,
   "metadata": {
    "collapsed": true
   },
   "outputs": [],
   "source": [
    "pub_entry = publications[100]"
   ]
  },
  {
   "cell_type": "code",
   "execution_count": 231,
   "metadata": {
    "collapsed": false
   },
   "outputs": [
    {
     "name": "stdout",
     "output_type": "stream",
     "text": [
      "Article Title: None\n",
      "Journal: None\n",
      "Volume: None\n",
      "Issue: None\n",
      "Page Range: None\n",
      "Publishing Status: \n",
      "Year: None\n",
      "Publisher: None\n",
      "Publication Location: \n",
      "Description / Contribution Value: None\n",
      "URL: None\n",
      "Refereed?: \n",
      "Open Access?: \n",
      "Synthesis?: \n",
      "Contribution Role: \n",
      "Number of Contributors: None\n",
      "Authors: Richard S. Sutton andCsaba Szepesv{\\'{a}}ri and Alborz Geramifard and  Michael Bowling\n",
      "Editors: None\n",
      "DOI: None\n",
      "Contribution Percentage: \n",
      "Description of Contribution Role: None\n"
     ]
    }
   ],
   "source": [
    "def print_pub(pub_entry):\n",
    "    for child in pub_entry:\n",
    "        print(child.attrib['label'],end=': ')\n",
    "        if child: # has children\n",
    "            print(child[0].text) # print contents of first\n",
    "        else:\n",
    "            print()\n",
    "print_pub(publications[0])"
   ]
  },
  {
   "cell_type": "code",
   "execution_count": 232,
   "metadata": {
    "collapsed": false
   },
   "outputs": [
    {
     "name": "stdout",
     "output_type": "stream",
     "text": [
      "410\n",
      "Article Title None\n",
      "Article Title None\n",
      "Article Title None\n",
      "Article Title None\n",
      "Article Title None\n",
      "Article Title None\n",
      "Article Title None\n",
      "Article Title None\n",
      "Article Title None\n",
      "Article Title None\n",
      "-----------------------------------------------------------------------\n",
      "Article Title None\n",
      "Article Title None\n",
      "Article Title None\n",
      "Article Title None\n",
      "Article Title None\n",
      "Article Title None\n",
      "Article Title None\n",
      "Article Title None\n",
      "Article Title None\n",
      "Article Title None\n",
      "Article Title None\n",
      "Article Title None\n",
      "Article Title None\n",
      "Article Title None\n",
      "Article Title None\n",
      "Article Title None\n",
      "Article Title None\n",
      "Article Title None\n",
      "Article Title None\n",
      "Article Title None\n",
      "Article Title None\n",
      "Article Title None\n",
      "Article Title None\n",
      "Article Title None\n",
      "Article Title None\n",
      "Article Title None\n",
      "Article Title None\n",
      "Article Title None\n",
      "Book Title None\n",
      "Book Title None\n",
      "Book Title None\n",
      "Entry Title None\n",
      "Publication Title None\n",
      "Publication Title None\n",
      "Publication Title None\n",
      "Publication Title None\n",
      "Publication Title None\n",
      "Publication Title None\n",
      "Publication Title None\n",
      "Publication Title None\n",
      "Publication Title None\n",
      "Publication Title None\n",
      "Publication Title None\n",
      "Publication Title None\n",
      "Publication Title None\n",
      "Publication Title None\n",
      "Publication Title None\n",
      "Publication Title None\n",
      "Publication Title None\n",
      "Publication Title None\n",
      "Publication Title None\n",
      "Publication Title None\n",
      "Publication Title None\n",
      "Publication Title None\n",
      "Publication Title None\n",
      "Publication Title None\n",
      "Publication Title None\n",
      "Publication Title None\n",
      "Publication Title None\n",
      "Publication Title None\n",
      "Publication Title None\n",
      "Publication Title None\n",
      "Publication Title None\n",
      "Publication Title None\n",
      "Publication Title None\n",
      "Publication Title None\n",
      "Publication Title None\n",
      "Publication Title None\n",
      "Publication Title None\n",
      "Publication Title None\n",
      "Publication Title None\n",
      "Publication Title None\n",
      "Publication Title None\n",
      "Publication Title None\n",
      "Publication Title None\n",
      "Publication Title None\n",
      "Publication Title None\n",
      "Publication Title None\n",
      "Publication Title None\n",
      "Publication Title None\n",
      "Publication Title None\n",
      "Publication Title None\n",
      "Publication Title None\n",
      "Publication Title None\n",
      "Publication Title None\n",
      "Publication Title None\n",
      "Publication Title None\n",
      "Publication Title None\n",
      "Publication Title None\n",
      "Publication Title None\n",
      "Publication Title None\n",
      "Publication Title None\n",
      "Publication Title None\n",
      "Publication Title None\n",
      "Publication Title None\n",
      "Publication Title None\n",
      "Publication Title None\n",
      "Publication Title None\n",
      "Publication Title None\n",
      "Publication Title None\n",
      "Publication Title None\n",
      "Publication Title None\n",
      "Publication Title None\n",
      "Publication Title None\n",
      "Publication Title None\n",
      "Publication Title None\n",
      "Publication Title None\n",
      "Publication Title None\n",
      "Publication Title None\n",
      "Publication Title None\n",
      "Publication Title None\n",
      "Publication Title None\n",
      "Publication Title None\n",
      "Publication Title None\n",
      "Publication Title None\n",
      "Publication Title None\n",
      "Publication Title None\n",
      "Publication Title None\n",
      "Publication Title None\n",
      "Publication Title None\n",
      "Publication Title None\n",
      "Publication Title None\n",
      "Publication Title None\n",
      "Publication Title None\n",
      "Publication Title None\n",
      "Publication Title None\n",
      "Publication Title None\n",
      "Publication Title None\n",
      "Publication Title None\n",
      "Publication Title None\n",
      "Publication Title None\n",
      "Publication Title None\n",
      "Publication Title None\n",
      "Publication Title None\n",
      "Publication Title None\n",
      "Publication Title None\n",
      "Publication Title None\n",
      "Publication Title None\n",
      "Publication Title None\n",
      "Publication Title None\n",
      "Publication Title None\n",
      "Publication Title None\n",
      "Publication Title None\n",
      "Publication Title None\n",
      "Publication Title None\n",
      "Publication Title None\n",
      "Publication Title None\n",
      "Publication Title None\n",
      "Publication Title None\n",
      "Publication Title None\n",
      "Publication Title None\n",
      "Publication Title None\n",
      "Publication Title None\n",
      "Publication Title None\n",
      "Publication Title None\n",
      "Publication Title None\n",
      "Publication Title None\n",
      "Publication Title None\n",
      "Publication Title None\n",
      "Publication Title None\n",
      "Publication Title None\n",
      "Publication Title None\n",
      "Publication Title None\n",
      "Publication Title None\n",
      "Publication Title None\n",
      "Publication Title None\n",
      "Publication Title None\n",
      "Publication Title None\n",
      "Publication Title None\n",
      "Publication Title None\n",
      "Publication Title None\n",
      "Publication Title None\n",
      "Publication Title None\n",
      "Publication Title None\n",
      "Publication Title None\n",
      "Publication Title None\n",
      "Publication Title None\n",
      "Publication Title None\n",
      "Publication Title None\n",
      "Publication Title None\n",
      "Publication Title None\n",
      "Publication Title None\n",
      "Publication Title None\n",
      "Publication Title None\n",
      "Publication Title None\n",
      "Publication Title None\n",
      "Publication Title None\n",
      "Publication Title None\n",
      "Publication Title None\n",
      "Publication Title None\n",
      "Publication Title None\n",
      "Publication Title None\n",
      "Publication Title None\n",
      "Publication Title None\n",
      "Publication Title None\n",
      "Publication Title None\n",
      "Publication Title None\n",
      "Publication Title None\n",
      "Publication Title None\n",
      "Publication Title None\n",
      "Publication Title None\n",
      "209\n",
      "-----------------------------------------------------------------------\n",
      "Article Title Efficient approximate planning in continuous space Markovian Decision Problems\n",
      "Article Title Policy Error Bounds for Model-Based Reinforcement Learning with Factored Linear Models\n",
      "Article Title DCM Bandits: Learning to Rank with Multiple Clicks\n",
      "Article Title Regularized Policy Iteration for Nonparametric Function Spaces\n",
      "Article Title Policy Error Bounds for Model-Based Reinforcement Learning with Factored Linear Models\n",
      "Article Title Conservative Bandits\n",
      "Article Title Combinatorial Cascading Bandits\n",
      "Article Title Cascading Bandits\n",
      "Article Title Online Learning with Gaussian Payoffs and Side Observations\n",
      "Article Title Combinatorial Cascading Bandits\n"
     ]
    }
   ],
   "source": [
    "# remove all publication entries with empty Article/Publication Title\n",
    "def print_titles(publications):\n",
    "    for pub_entry in publications:\n",
    "        for field in pub_entry:\n",
    "            if \"Title\" in field.attrib['label']:\n",
    "                print(field.attrib['label'],field[0].text)\n",
    "                break\n",
    "print(len(publications))\n",
    "print_titles(publications[0:10])\n",
    "print('-----------------------------------------------------------------------')\n",
    "entries_to_remove = []\n",
    "\n",
    "for pub_entry in publications:\n",
    "    for field in pub_entry:\n",
    "        if \"Title\" in field.attrib['label'] and field[0].text is None:\n",
    "            print(field.attrib['label'],field[0].text)\n",
    "            entries_to_remove.append( pub_entry )\n",
    "for pub_entry in entries_to_remove:\n",
    "    publications.remove(pub_entry)\n",
    "#publications.remove( publications[0] ) \n",
    "print(len(publications))\n",
    "print('-----------------------------------------------------------------------')\n",
    "print_titles(publications[0:10])"
   ]
  },
  {
   "cell_type": "code",
   "execution_count": 233,
   "metadata": {
    "collapsed": false
   },
   "outputs": [
    {
     "name": "stdout",
     "output_type": "stream",
     "text": [
      "Authors Csaba Szepesv{\\'{a}ri\n",
      "Authors Bernardo Avila Pires and Csaba Szepesv{\\'{a}ri\n",
      "Authors Branislav Kveton andZheng Wen and Azin Ashkan and  Csaba Szepesv{\\'{a}ri\n",
      "Authors Ruitong Huang andBing Xu and Dale Schuurmans and  Csaba Szepesv{\\'{a}ri\n",
      "Authors Branislav Kveton andZheng Wen and Azin Ashkan and  Csaba Szepesv{\\'{a}ri\n",
      "Authors Tor Lattimore andKoby Crammer and  Csaba Szepesv{\\'{a}ri\n",
      "Authors Mahdi Milani Fard andJoelle Pineau and  Csaba Szepesv{\\'{a}ri\n",
      "Authors Yaoliang Yu and Csaba Szepesv{\\'{a}ri\n",
      "Authors Gergely Neu and Csaba Szepesv{\\'{a}ri\n",
      "Authors Amir Massoud Farahmand and Csaba Szepesv{\\'{a}ri\n",
      "Authors Gergely Neu and Csaba Szepesv{\\'{a}ri\n",
      "Authors Csaba Szepesv{\\'{a}ri\n",
      "Authors Csaba Szepesv{\\'{a}ri and William D. Smart\n",
      "Authors Tor Lattimore andKoby Crammer and  Csaba Szepesv{\\'{a}ri\n",
      "Authors Csaba Szepesv{\\'{a}ri\n",
      "Authors Yaoliang Yu andHao Cheng and Dale Schuurmans and  Csaba Szepesv{\\'{a}ri\n",
      "Authors Gergely Neu and Csaba Szepesv{\\'{a}ri\n",
      "Authors Branislav Kveton andZheng Wen and Azin Ashkan and  Csaba Szepesv{\\'{a}ri\n",
      "Authors Ruitong Huang and Csaba Szepesv{\\'{a}ri\n",
      "Authors None\n",
      "Authors Branislav Kveton andZheng Wen and Azin Ashkan and  Csaba Szepesv{\\'{a}ri\n",
      "Authors Daniel J. Hsu andAryeh Kontorovich and  Csaba Szepesv{\\'{a}ri\n",
      "Authors Tor Lattimore andKoby Crammer and  Csaba Szepesv{\\'{a}ri\n",
      "Authors Ruitong Huang and Csaba Szepesv{\\'{a}ri\n",
      "Authors Yaoliang Yu and Csaba Szepesv{\\'{a}ri\n",
      "Authors Bernardo Avila Pires and Csaba Szepesv{\\'{a}ri\n",
      "Authors Csaba Szepesv{\\'{a}ri\n",
      "Authors Istvan Szita and Csaba Szepesv{\\'{a}ri\n",
      "Authors Yaoliang Yu andYuxi Li and Dale Schuurmans and  Csaba Szepesv{\\'{a}ri\n",
      "Authors Hengshuai Yao andRichard S. Sutton and Shalabh Bhatnagar and Diao Dongcui and  Csaba Szepesv{\\'{a}ri\n",
      "Authors Csaba Szepesv{\\'{a}ri\n",
      "Authors Csaba Szepesv{\\'{a}ri\n",
      "Authors Michael L. Littman and Csaba Szepesv{\\'{a}ri\n",
      "176\n"
     ]
    }
   ],
   "source": [
    "# remove all entries where the author list contains \"Szepesv{\\'{a}ri\"\n",
    "entries_to_remove = []\n",
    "\n",
    "for pub_entry in publications:\n",
    "    for field in pub_entry:\n",
    "        if \"Authors\" in field.attrib['label'] and ((field[0].text is None) or (\"{\\\\'{a}\" in field[0].text)):\n",
    "            print(field.attrib['label'],field[0].text)\n",
    "            entries_to_remove.append( pub_entry )\n",
    "\n",
    "for pub_entry in entries_to_remove:\n",
    "    publications.remove(pub_entry)\n",
    "print(len(publications))        \n"
   ]
  },
  {
   "cell_type": "code",
   "execution_count": 234,
   "metadata": {
    "collapsed": false
   },
   "outputs": [
    {
     "name": "stdout",
     "output_type": "stream",
     "text": [
      "Journal CoRR\n",
      "Journal CoRR\n",
      "Journal CoRR\n",
      "Journal CoRR\n",
      "Journal CoRR\n",
      "Journal CoRR\n",
      "Journal CoRR\n",
      "Journal CoRR\n",
      "Journal CoRR\n",
      "Journal CoRR\n",
      "Journal CoRR\n",
      "Journal CoRR\n",
      "Journal CoRR\n",
      "Journal CoRR\n",
      "Journal CoRR\n",
      "Journal CoRR\n",
      "Journal CoRR\n",
      "Journal CoRR\n",
      "Journal CoRR\n",
      "Journal CoRR\n",
      "Journal CoRR\n",
      "Journal CoRR\n",
      "Journal CoRR\n",
      "Journal CoRR\n",
      "Journal CoRR\n",
      "Journal CoRR\n",
      "Journal CoRR\n",
      "Journal CoRR\n",
      "148\n"
     ]
    }
   ],
   "source": [
    "# remove all \"articles\" where journal is \"CoRR\" \n",
    "entries_to_remove = []\n",
    "\n",
    "for pub_entry in publications:\n",
    "    for field in pub_entry:\n",
    "        if \"Journal\" in field.attrib['label'] and ((field[0].text is None) or (\"CoRR\" in field[0].text)):\n",
    "            print(field.attrib['label'],field[0].text)\n",
    "#             print_pub(pub_entry)\n",
    "#             print('------------------------------')\n",
    "            entries_to_remove.append( pub_entry )\n",
    "            break\n",
    "\n",
    "for pub_entry in entries_to_remove:\n",
    "    publications.remove(pub_entry)\n",
    "print(len(publications))        \n",
    "            "
   ]
  },
  {
   "cell_type": "code",
   "execution_count": 235,
   "metadata": {
    "collapsed": false
   },
   "outputs": [],
   "source": [
    "# set for all publications that the publication has been refereed\n",
    "# Refereed?\n",
    "# This must be checked..\n",
    "uuid_refd = '2089ff1a86844b6c9a10fc63469f9a9d'\n",
    "\n",
    "for pub_entry in publications:\n",
    "    for field in pub_entry:\n",
    "        if \"Refereed?\" in field.attrib['label']:\n",
    "            if field:\n",
    "                field[0].text = \"Yes\"\n",
    "            else:\n",
    "                refd = ET.SubElement( field, 'lov', {'id': '00000000000000000000000000000400'} )\n",
    "                refd.text = \"Yes\"\n",
    "#             field[0].text = \"Yes\"\n",
    "            break\n",
    "    else:\n",
    "        refd_field = ET.SubElement( pub_entry, 'field', {'id': uuid_refd, 'label':'Refereed?'} )\n",
    "        refd       = ET.SubElement( refd_field, 'lov', {'id': '00000000000000000000000000000400'} )\n",
    "        refd.text = \"Yes\"\n",
    "#     print_pub(pub_entry)\n",
    "#     print('------------------------------------------------')\n",
    "\n"
   ]
  },
  {
   "cell_type": "code",
   "execution_count": 236,
   "metadata": {
    "collapsed": false
   },
   "outputs": [
    {
     "name": "stdout",
     "output_type": "stream",
     "text": [
      "Before: D *** Gábor Bartók andDean P. Foster and Dávid Pál and Alexander Rakhlin and  Csaba Szepesvári\n",
      "After: Gábor Bartók and Dean P. Foster and Dávid Pál and Alexander Rakhlin and  Csaba Szepesvári\n",
      "Before: C *** Jyrki Kivinen andCsaba Szepesvári and  Thomas Zeugmann\n",
      "After: Jyrki Kivinen and Csaba Szepesvári and  Thomas Zeugmann\n",
      "Before: C *** Thanh Le andCsaba Szepesvári and  Rong Zheng\n",
      "After: Thanh Le and Csaba Szepesvári and  Rong Zheng\n",
      "Before: A *** Gergely Neu andAndrás György and Csaba Szepesvári and  András Antos\n",
      "After: Gergely Neu and András György and Csaba Szepesvári and  András Antos\n",
      "Before: C *** Arash Afkanpour andCsaba Szepesvári and  Michael Bowling\n",
      "After: Arash Afkanpour and Csaba Szepesvári and  Michael Bowling\n",
      "Before: G *** András Antos andGábor Bartók and Dávid Pál and  Csaba Szepesvári\n",
      "After: András Antos and Gábor Bartók and Dávid Pál and  Csaba Szepesvári\n",
      "Before: L *** Sylvain Gelly andLevente Kocsis and Marc Schoenauer and Michele Sebag and David Silver and Csaba Szepesvári and  Olivier Teytaud\n",
      "After: Sylvain Gelly and Levente Kocsis and Marc Schoenauer and Michele Sebag and David Silver and Csaba Szepesvári and  Olivier Teytaud\n",
      "Before: R *** Sébastien Bubeck andRémi Munos and Gilles Stoltz and  Csaba Szepesvári\n",
      "After: Sébastien Bubeck and Rémi Munos and Gilles Stoltz and  Csaba Szepesvári\n",
      "Before: C *** Gábor Bartók andCsaba Szepesvári and  Sandra Zilles\n",
      "After: Gábor Bartók and Csaba Szepesvári and  Sandra Zilles\n",
      "Before: V *** András Antos andVarun Grover and  Csaba Szepesvári\n",
      "After: András Antos and Varun Grover and  Csaba Szepesvári\n",
      "Before: R *** Jean-Yves Audibert andRémi Munos and  Csaba Szepesvári\n",
      "After: Jean-Yves Audibert and Rémi Munos and  Csaba Szepesvári\n",
      "Before: C *** András Antos andCsaba Szepesvári and  Rémi Munos\n",
      "After: András Antos and Csaba Szepesvári and  Rémi Munos\n",
      "Before: C *** Mark French andCsaba Szepesvári and  Eric Rogers\n",
      "After: Mark French and Csaba Szepesvári and  Eric Rogers\n",
      "Before: C *** Mark French andCsaba Szepesvári and  Eric Rogers\n",
      "After: Mark French and Csaba Szepesvári and  Eric Rogers\n",
      "Before: G *** András Lörincz andGyörgy Hévízi and  Csaba Szepesvári\n",
      "After: András Lörincz and György Hévízi and  Csaba Szepesvári\n",
      "Before: C *** Mark French andCsaba Szepesvári and  Eric Rogers\n",
      "After: Mark French and Csaba Szepesvári and  Eric Rogers\n",
      "Before: T *** Satinder P. Singh andTommi S. Jaakkola and Michael L. Littman and  Csaba Szepesvári\n",
      "After: Satinder P. Singh and Tommi S. Jaakkola and Michael L. Littman and  Csaba Szepesvári\n",
      "Before: C *** Zsolt Kalmár andCsaba Szepesvári and  András Lörincz\n",
      "After: Zsolt Kalmár and Csaba Szepesvári and  András Lörincz\n",
      "Before: K *** János Murvai andKristian Vlahovicek and Endre Barta and Csaba Szepesvári and Cristina Acatrinei and  Sándor Pongor\n",
      "After: János Murvai and Kristian Vlahovicek and Endre Barta and Csaba Szepesvári and Cristina Acatrinei and  Sándor Pongor\n",
      "Before: Z *** Zsolt Kalmár andZsolt Marczell and Csaba Szepesvári and  András Lörincz\n",
      "After: Zsolt Kalmár and Zsolt Marczell and Csaba Szepesvári and  András Lörincz\n",
      "Before: C *** Zsolt Kalmár andCsaba Szepesvári and  András Lörincz\n",
      "After: Zsolt Kalmár and Csaba Szepesvári and  András Lörincz\n",
      "Before: C *** Zsolt Kalmár andCsaba Szepesvári and  András Lörincz\n",
      "After: Zsolt Kalmár and Csaba Szepesvári and  András Lörincz\n",
      "Before: S *** Csaba Szepesvári andSzabolcs Cimmer and  András Lörincz\n",
      "After: Csaba Szepesvári and Szabolcs Cimmer and  András Lörincz\n",
      "Before: T *** Tibor Fomin andTamás Rozgonyi and Csaba Szepesvári and  András Lörincz\n",
      "After: Tibor Fomin and Tamás Rozgonyi and Csaba Szepesvári and  András Lörincz\n",
      "Before: L *** Csaba Szepesvári andLászló Balázs and  András Lörincz\n",
      "After: Csaba Szepesvári and László Balázs and  András Lörincz\n",
      "Before: R *** Lihong Li andRémi Munos and  Csaba Szepesvári\n",
      "After: Lihong Li and Rémi Munos and  Csaba Szepesvári\n",
      "Before: A *** Roshan Shariff andAndrás György and  Csaba Szepesvári\n",
      "After: Roshan Shariff and András György and  Csaba Szepesvári\n",
      "Before: Z *** Branislav Kveton andZheng Wen and Azin Ashkan and  Csaba Szepesvári\n",
      "After: Branislav Kveton and Zheng Wen and Azin Ashkan and  Csaba Szepesvári\n",
      "Before: A *** Ruitong Huang andAndrás György and  Csaba Szepesvári\n",
      "After: Ruitong Huang and András György and  Csaba Szepesvári\n",
      "Before: A *** Gábor Bálazs andAndrás György and  Csaba Szepesvári\n",
      "After: Gábor Bálazs and András György and  Csaba Szepesvári\n",
      "Before: K *** Tor Lattimore andKoby Crammer and  Csaba Szepesvári\n",
      "After: Tor Lattimore and Koby Crammer and  Csaba Szepesvári\n",
      "Before: C *** Branislav Kveton andCsaba Szepesvári and Zheng Wen and  Azin Ashkan\n",
      "After: Branislav Kveton and Csaba Szepesvári and Zheng Wen and  Azin Ashkan\n",
      "Before: D *** Nolan Bard andDeon Nicholas and Csaba Szepesvári and  Michael H. Bowling\n",
      "After: Nolan Bard and Deon Nicholas and Csaba Szepesvári and  Michael H. Bowling\n",
      "Before: A *** Yifan Wu andAndrás György and  Csaba Szepesvári\n",
      "After: Yifan Wu and András György and  Csaba Szepesvári\n",
      "Before: A *** Pooria Joulani andAndrás György and  Csaba Szepesvári\n",
      "After: Pooria Joulani and András György and  Csaba Szepesvári\n",
      "Before: Z *** Branislav Kveton andZheng Wen and Azin Ashkan and  Csaba Szepesvári\n",
      "After: Branislav Kveton and Zheng Wen and Azin Ashkan and  Csaba Szepesvári\n",
      "Before: A *** Daniel J. Hsu andAryeh Kontorovich and  Csaba Szepesvári\n",
      "After: Daniel J. Hsu and Aryeh Kontorovich and  Csaba Szepesvári\n",
      "Before: A *** Yifan Wu andAndrás György and  Csaba Szepesvári\n",
      "After: Yifan Wu and András György and  Csaba Szepesvári\n",
      "Before: A *** Tor Lattimore andAndrás György and  Csaba Szepesvári\n",
      "After: Tor Lattimore and András György and  Csaba Szepesvári\n",
      "Before: A *** Travis Dick andAndrás György and  Csaba Szepesvári\n",
      "After: Travis Dick and András György and  Csaba Szepesvári\n",
      "Before: C *** Hengshuai Yao andCsaba Szepesvári and Richard S. Sutton and Joseph Modayil and  Shalabh Bhatnagar\n",
      "After: Hengshuai Yao and Csaba Szepesvári and Richard S. Sutton and Joseph Modayil and  Shalabh Bhatnagar\n",
      "Before: K *** Tor Lattimore andKoby Crammer and  Csaba Szepesvári\n",
      "After: Tor Lattimore and Koby Crammer and  Csaba Szepesvári\n",
      "Before: A *** James Neufeld andAndrás György and Csaba Szepesvári and  Dale Schuurmans\n",
      "After: James Neufeld and András György and Csaba Szepesvári and  Dale Schuurmans\n",
      "Before: C *** Hengshuai Yao andCsaba Szepesvári and Bernardo Avila Pires and  Xinhua Zhang\n",
      "After: Hengshuai Yao and Csaba Szepesvári and Bernardo Avila Pires and  Xinhua Zhang\n",
      "Before: C *** Bernardo Avila Pires andCsaba Szepesvári and  Mohammad Ghavamzadeh\n",
      "After: Bernardo Avila Pires and Csaba Szepesvári and  Mohammad Ghavamzadeh\n",
      "Before: P *** Yasin Abbasi-Yadkori andPeter L. Bartlett and Varun Kanade and Yevgeny Seldin and  Csaba Szepesvári\n",
      "After: Yasin Abbasi-Yadkori and Peter L. Bartlett and Varun Kanade and Yevgeny Seldin and  Csaba Szepesvári\n",
      "Before: A *** Arash Afkanpour andAndrás György and Csaba Szepesvári and  Michael Bowling\n",
      "After: Arash Afkanpour and András György and Csaba Szepesvári and  Michael Bowling\n",
      "Before: G *** Navid Zolghadr andGábor Bartók and Russell Greiner and András György and  Csaba Szepesvári\n",
      "After: Navid Zolghadr and Gábor Bartók and Russell Greiner and András György and  Csaba Szepesvári\n",
      "Before: H *** Yaoliang Yu andHao Cheng and Dale Schuurmans and  Csaba Szepesvári\n",
      "After: Yaoliang Yu and Hao Cheng and Dale Schuurmans and  Csaba Szepesvári\n",
      "Before: A *** Pooria Joulani andAndrás György and  Csaba Szepesvári\n",
      "After: Pooria Joulani and András György and  Csaba Szepesvári\n",
      "Before: N *** Gábor Bartók andNavid Zolghadr and  Csaba Szepesvári\n",
      "After: Gábor Bartók and Navid Zolghadr and  Csaba Szepesvári\n",
      "Before: C *** Yevgeny Seldin andCsaba Szepesvári and Peter Auer and  Yasin Abbasi-Yadkori\n",
      "After: Yevgeny Seldin and Csaba Szepesvári and Peter Auer and  Yasin Abbasi-Yadkori\n",
      "Before: C *** Marc Peter Deisenroth andCsaba Szepesvári and  Jan Peters\n",
      "After: Marc Peter Deisenroth and Csaba Szepesvári and  Jan Peters\n",
      "Before: D *** Yasin Abbasi-Yadkori andDávid Pál and  Csaba Szepesvári\n",
      "After: Yasin Abbasi-Yadkori and Dávid Pál and  Csaba Szepesvári\n",
      "Before: A *** Gergely Neu andAndrás György and  Csaba Szepesvári\n",
      "After: Gergely Neu and András György and  Csaba Szepesvári\n",
      "Before: D *** Yasin Abbasi-Yadkori andDávid Pál and  Csaba Szepesvári\n",
      "After: Yasin Abbasi-Yadkori and Dávid Pál and  Csaba Szepesvári\n",
      "Before: J *** Mahdi Milani Fard andJoelle Pineau and  Csaba Szepesvári\n",
      "After: Mahdi Milani Fard and Joelle Pineau and  Csaba Szepesvári\n",
      "Before: C *** Pallavi Arora andCsaba Szepesvári and  Rong Zheng\n",
      "After: Pallavi Arora and Csaba Szepesvári and  Rong Zheng\n",
      "Before: C *** Jyrki Kivinen andCsaba Szepesvári and Esko Ukkonen and  Thomas Zeugmann\n",
      "After: Jyrki Kivinen and Csaba Szepesvári and Esko Ukkonen and  Thomas Zeugmann\n",
      "Before: D *** Gábor Bartók andDávid Pál and  Csaba Szepesvári\n",
      "After: Gábor Bartók and Dávid Pál and  Csaba Szepesvári\n",
      "Before: B *** Liuyang Li andBarnabás Póczos and Csaba Szepesvári and  Russell Greiner\n",
      "After: Liuyang Li and Barnabás Póczos and Csaba Szepesvári and  Russell Greiner\n",
      "Before: C *** Hamid Reza Maei andCsaba Szepesvári and Shalabh Bhatnagar and  Richard S. Sutton\n",
      "After: Hamid Reza Maei and Csaba Szepesvári and Shalabh Bhatnagar and  Richard S. Sutton\n",
      "Before: A *** Péter Torma andAndrás György and  Csaba Szepesvári\n",
      "After: Péter Torma and András György and  Csaba Szepesvári\n",
      "Before: D *** Gábor Bartók andDávid Pál and  Csaba Szepesvári\n",
      "After: Gábor Bartók and Dávid Pál and  Csaba Szepesvári\n",
      "Before: B *** Dávid Pál andBarnabás Póczos and  Csaba Szepesvári\n",
      "After: Dávid Pál and Barnabás Póczos and  Csaba Szepesvári\n",
      "Before: O *** Sarah Filippi andOlivier Cappé and Aurélien Garivier and  Csaba Szepesvári\n",
      "After: Sarah Filippi and Olivier Cappé and Aurélien Garivier and  Csaba Szepesvári\n",
      "Before: S *** Barnabás Póczos andSergey Kirshner and  Csaba Szepesvári\n",
      "After: Barnabás Póczos and Sergey Kirshner and  Csaba Szepesvári\n",
      "Before: J *** Yasin Abbasi-Yadkori andJoseph Modayil and  Csaba Szepesvári\n",
      "After: Yasin Abbasi-Yadkori and Joseph Modayil and  Csaba Szepesvári\n",
      "Before: A *** Gergely Neu andAndrás György and Csaba Szepesvári and  András Antos\n",
      "After: Gergely Neu and András György and Csaba Szepesvári and  András Antos\n",
      "Before: R *** Amir Massoud Farahmand andRémi Munos and  Csaba Szepesvári\n",
      "After: Amir Massoud Farahmand and Rémi Munos and  Csaba Szepesvári\n",
      "Before: A *** Gergely Neu andAndrás György and  Csaba Szepesvári\n",
      "After: Gergely Neu and András György and  Csaba Szepesvári\n",
      "Before: H *** Richard S. Sutton andHamid Reza Maei and Doina Precup and Shalabh Bhatnagar and David Silver and Csaba Szepesvári and  Eric Wiewiora\n",
      "After: Richard S. Sutton and Hamid Reza Maei and Doina Precup and Shalabh Bhatnagar and David Silver and Csaba Szepesvári and  Eric Wiewiora\n",
      "Before: C *** Hamid Reza Maei andCsaba Szepesvári and Shalabh Bhatnagar and Doina Precup and David Silver and  Richard S. Sutton\n",
      "After: Hamid Reza Maei and Csaba Szepesvári and Shalabh Bhatnagar and Doina Precup and David Silver and  Richard S. Sutton\n",
      "Before: S *** Hengshuai Yao andShalabh Bhatnagar and  Csaba Szepesvári\n",
      "After: Hengshuai Yao and Shalabh Bhatnagar and  Csaba Szepesvári\n",
      "Before: R *** Hengshuai Yao andRichard S. Sutton and Shalabh Bhatnagar and Diao Dongcui and  Csaba Szepesvári\n",
      "After: Hengshuai Yao and Richard S. Sutton and Shalabh Bhatnagar and Diao Dongcui and  Csaba Szepesvári\n",
      "Before: C *** Yuxi Li andCsaba Szepesvári and  Dale Schuurmans\n",
      "After: Yuxi Li and Csaba Szepesvári and  Dale Schuurmans\n",
      "Before: Y *** Barnabás Póczos andYasin Abbasi-Yadkori and Csaba Szepesvári and Russell Greiner and  Nathan R. Sturtevant\n",
      "After: Barnabás Póczos and Yasin Abbasi-Yadkori and Csaba Szepesvári and Russell Greiner and  Nathan R. Sturtevant\n",
      "Before: P *** Jean-Yves Audibert andPeter Auer and Alessandro Lazaric and Rémi Munos and Daniil Ryabko and  Csaba Szepesvári\n",
      "After: Jean-Yves Audibert and Peter Auer and Alessandro Lazaric and Rémi Munos and Daniil Ryabko and  Csaba Szepesvári\n",
      "Before: R *** Alireza Farhangfar andRussell Greiner and  Csaba Szepesvári\n",
      "After: Alireza Farhangfar and Russell Greiner and  Csaba Szepesvári\n",
      "Before: Y *** Yaoliang Yu andYuxi Li and Dale Schuurmans and  Csaba Szepesvári\n",
      "After: Yaoliang Yu and Yuxi Li and Dale Schuurmans and  Csaba Szepesvári\n",
      "Before: A *** Amir Massoud Farahmand andAzad Shademan and Martin Jagersand and  Csaba Szepesvári\n",
      "After: Amir Massoud Farahmand and Azad Shademan and Martin Jagersand and  Csaba Szepesvári\n",
      "Before: V *** András Antos andVarun Grover and  Csaba Szepesvári\n",
      "After: András Antos and Varun Grover and  Csaba Szepesvári\n",
      "Before: C *** Richard S. Sutton andCsaba Szepesvári and Alborz Geramifard and  Michael H. Bowling\n",
      "After: Richard S. Sutton and Csaba Szepesvári and Alborz Geramifard and  Michael H. Bowling\n",
      "Before: C *** Richard S. Sutton andCsaba Szepesvári and  Hamid Reza Maei\n",
      "After: Richard S. Sutton and Csaba Szepesvári and  Hamid Reza Maei\n",
      "Before: R *** Sébastien Bubeck andRémi Munos and Gilles Stoltz and  Csaba Szepesvári\n",
      "After: Sébastien Bubeck and Rémi Munos and Gilles Stoltz and  Csaba Szepesvári\n",
      "Before: M *** Amir Massoud Farahmand andMohammad Ghavamzadeh and Csaba Szepesvári and  Shie Mannor\n",
      "After: Amir Massoud Farahmand and Mohammad Ghavamzadeh and Csaba Szepesvári and  Shie Mannor\n",
      "Before: C *** Alejandro Isaza andCsaba Szepesvári and Vadim Bulitko and  Russell Greiner\n",
      "After: Alejandro Isaza and Csaba Szepesvári and Vadim Bulitko and  Russell Greiner\n",
      "Before: C *** Gábor Bartók andCsaba Szepesvári and  Sandra Zilles\n",
      "After: Gábor Bartók and Csaba Szepesvári and  Sandra Zilles\n",
      "Before: M *** Amir Massoud Farahmand andMohammad Ghavamzadeh and Csaba Szepesvári and  Shie Mannor\n",
      "After: Amir Massoud Farahmand and Mohammad Ghavamzadeh and Csaba Szepesvári and  Shie Mannor\n",
      "Before: C *** Volodymyr Mnih andCsaba Szepesvári and  Jean-Yves Audibert\n",
      "After: Volodymyr Mnih and Csaba Szepesvári and  Jean-Yves Audibert\n",
      "Before: Z *** István Bíró andZoltán Szamonek and  Csaba Szepesvári\n",
      "After: István Bíró and Zoltán Szamonek and  Csaba Szepesvári\n",
      "Before: L *** András György andLevente Kocsis and Ivett Szabó and  Csaba Szepesvári\n",
      "After: András György and Levente Kocsis and Ivett Szabó and  Csaba Szepesvári\n",
      "Before: R *** András Antos andRémi Munos and  Csaba Szepesvári\n",
      "After: András Antos and Rémi Munos and  Csaba Szepesvári\n",
      "Before: C *** Amir Massoud Farahmand andCsaba Szepesvári and  Jean-Yves Audibert\n",
      "After: Amir Massoud Farahmand and Csaba Szepesvári and  Jean-Yves Audibert\n",
      "Before: R *** Peter Auer andRonald Ortner and  Csaba Szepesvári\n",
      "After: Peter Auer and Ronald Ortner and  Csaba Szepesvári\n",
      "Before: R *** Jean-Yves Audibert andRémi Munos and  Csaba Szepesvári\n",
      "After: Jean-Yves Audibert and Rémi Munos and  Csaba Szepesvári\n",
      "Before: C *** András Antos andCsaba Szepesvári and  Rémi Munos\n",
      "After: András Antos and Csaba Szepesvári and  Rémi Munos\n",
      "Before: C *** Levente Kocsis andCsaba Szepesvári and  Mark H. M. Winands\n",
      "After: Levente Kocsis and Csaba Szepesvári and  Mark H. M. Winands\n",
      "Before: A *** Csaba Szepesvári andAndrás Kocsor and  Kornél Kovács\n",
      "After: Csaba Szepesvári and András Kocsor and  Kornél Kovács\n",
      "Before: K *** András Kocsor andKornél Kovács and  Csaba Szepesvári\n",
      "After: András Kocsor and Kornél Kovács and  Csaba Szepesvári\n",
      "Before: E *** György Balogh andErvin Dobler and Tamás Gröbler and Béla Smodics and  Csaba Szepesvári\n",
      "After: György Balogh and Ervin Dobler and Tamás Gröbler and Béla Smodics and  Csaba Szepesvári\n",
      "Before: Z *** Zoltán Gábor andZsolt Kalmár and  Csaba Szepesvári\n",
      "After: Zoltán Gábor and Zsolt Kalmár and  Csaba Szepesvári\n",
      "Before: C *** Zsolt Kalmár andCsaba Szepesvári and  András Lörincz\n",
      "After: Zsolt Kalmár and Csaba Szepesvári and  András Lörincz\n"
     ]
    }
   ],
   "source": [
    "# Fix import error of merging \"and\" with author names\n",
    "\n",
    "for pub_entry in publications:\n",
    "    for field in pub_entry:\n",
    "        if \"Authors\" in field.attrib['label']:\n",
    "            text = field[0].text\n",
    "            first_pos = text.find(\" and\")\n",
    "            next_pos = first_pos+len(\" and\")\n",
    "            if first_pos>=0 and next_pos<len(text) and text[next_pos]!=' ':\n",
    "                print(\"Before:\",text[next_pos],\"***\",text)\n",
    "                text = text[:next_pos]+' '+text[next_pos:]\n",
    "                print(\"After:\",text)\n",
    "                field[0].text = text\n",
    "\n"
   ]
  },
  {
   "cell_type": "code",
   "execution_count": 237,
   "metadata": {
    "collapsed": false
   },
   "outputs": [
    {
     "name": "stdout",
     "output_type": "stream",
     "text": [
      "{'Nolan Bard', 'Shalabh Bhatnagar', 'Deon Nicholas', 'Pallavi Arora', 'William D. Smart', 'Varun Grover', 'Daniel J. Hsu', 'Koby Crammer', 'Mahdi Milani Fard', 'Mark French', 'Ivett Szabó', 'Mohammad Ghavamzadeh', 'Vadim Bulitko', 'Mark H. M. Winands', 'Aryeh Kontorovich', 'Sébastien Bubeck', 'Diao Dongcui', 'Sandra Zilles', 'Branislav Kveton', 'Zoltán Szamonek', 'Zsolt Marczell', 'László Balázs', 'Doina Precup', 'Bernardo Avila Pires', 'György Balogh', 'Zheng Wen', 'Szabolcs Cimmer', 'Szepesvári Cs', 'Alexander Rakhlin', 'Jan Peters', 'György Hévízi', 'Farahmand A.m*, Ghavamzadeh M, Szepesvári Cs, Mannor S', 'Sergey Kirshner', 'Peter L. Bartlett', 'David Silver', 'Olivier Teytaud', 'Yifan Wu', 'Gergely Neu', 'András Lörincz', 'Amir Massoud Farahmand', 'Zsolt Kalmár', 'Michele Sebag', 'Zoltán Gábor', 'Yuxi Li', 'Azin Ashkan', 'Alborz Geramifard', 'Marc Peter Deisenroth', 'Pooria Joulani', 'Gilles Stoltz', 'András Kocsor', 'Yevgeny Seldin', 'Navid Zolghadr', 'Jyrki Kivinen', 'Shie Mannor', 'Marc Schoenauer', 'István Bíró', 'Levente Kocsis', 'Cs. Szepesvári', 'Richard S. Sutton', 'Hengshuai Yao', 'Jean-Yves Audibert', 'Gábor Bálazs', 'János Murvai', 'Travis Dick', 'Olivier Cappé', 'Ervin Dobler', 'Arash Afkanpour', 'Yaoliang Yu', 'Alejandro Isaza', 'Roshan Shariff', 'Michael H. Bowling', 'Lihong Li', 'Rémi Munos', 'Istvan Szita', 'Le T, Szepesvári Cs, Zheng R', 'Eric Rogers', 'István Szita', 'Dávid Pál', 'Aurélien Garivier', 'András Antos', 'Volodymyr Mnih', 'Nathan R. Sturtevant', 'Daniil Ryabko', 'Sándor Pongor', 'Sarah Filippi', 'Ryan Kiros', 'Varun Kanade', 'Kivinen J, Szepesvári Cs, Ukkonen E, Zeugmann T', 'Tor Lattimore', 'Bartók G*, Foster D, Pál D*, Rakhlin A, Szepesvári Cs', 'Russell Greiner', 'Alessandro Lazaric', 'Joelle Pineau', 'Kristian Vlahovicek', 'Sylvain Gelly', 'Yasin Abbasi-Yadkori', 'Zsolt Kalmar', 'Barnabás Póczos', 'Alireza Farhangfar', 'Cristina Acatrinei', 'Kornél Kovács', 'Hamid Reza Maei', 'Péter Torma', 'Béla Smodics', 'András György', 'French M.C, Szepesvári Cs, Rogers E', 'Csaba Szepesvári', 'Ronald Ortner', 'Azad Shademan', 'Rong Zheng', 'Csaba Szepesvari', 'Tommi S. Jaakkola', 'Andras Lorincz', 'Gábor Bartók', 'Esko Ukkonen', 'Dean P. Foster', 'Dale Schuurmans', 'Xinhua Zhang', 'Thanh Le', 'Michael L. Littman', 'Ruitong Huang', 'Thomas Zeugmann', 'Tamás Gröbler', 'Tamás Rozgonyi', 'Michael Bowling', 'Satinder P. Singh', 'Martin Jagersand', 'James Neufeld', 'Tibor Fomin', 'Liuyang Li', 'Joseph Modayil', 'Endre Barta', 'Peter Auer', 'Eric Wiewiora', 'Hao Cheng'}\n"
     ]
    }
   ],
   "source": [
    "# Reformat the authors as required by CCV from the Latex format\n",
    "authors = set()\n",
    "for pub_entry in publications:\n",
    "    for field in pub_entry:\n",
    "        if \"Authors\" in field.attrib['label']:\n",
    "            text = field[0].text\n",
    "            aus = re.split(\" and \",field[0].text)\n",
    "            authors = authors.union( set(map(str.strip,aus)) )\n",
    "print(authors)"
   ]
  },
  {
   "cell_type": "code",
   "execution_count": 268,
   "metadata": {
    "collapsed": false
   },
   "outputs": [
    {
     "name": "stdout",
     "output_type": "stream",
     "text": [
      "After: *Farahmand A, *Ghavamzadeh M, Szepesvári C, Mannor S\n",
      "After: *Bartók G, Foster D, *Pál D, Rakhlin A, Szepesvári C\n",
      "After: Kivinen J, Szepesvári C, Zeugmann T\n",
      "After: *Bartók G, Foster D, *Pál D, Rakhlin A, Szepesvári C\n",
      "After: Le T, Szepesvári C, Zheng R\n",
      "After: Le T, Szepesvári C, Zheng R\n",
      "After: *Neu G, György A, Szepesvári C, Antos A\n",
      "After: *Afkanpour A, Szepesvári C, Bowling M\n",
      "After: Antos A, *Bartók G, *Pál D, Szepesvári C\n",
      "After: Gelly S, *Kocsis L, Schoenauer M, Sebag M, Silver D, Szepesvári C, Teytaud O\n",
      "After: Bubeck S, Munos R, Stoltz G, Szepesvári C\n",
      "After: *Farahmand A, Szepesvári C\n",
      "After: *Bartók G, Szepesvári C, Zilles S\n",
      "After: Antos A, *Grover V, Szepesvári C\n",
      "After: *Neu G, Szepesvári C\n",
      "After: Audibert J, Munos R, Szepesvári C\n",
      "After: Munos R, Szepesvári C\n",
      "After: Antos A, Szepesvári C, Munos R\n",
      "After: *Kocsis L, Szepesvári C\n",
      "After: *Torma P, Szepesvári C\n",
      "After: French M, Szepesvári C, Rogers E\n",
      "After: French M, Szepesvári C, Rogers E\n",
      "After: Lörincz A, Hévízi G, Szepesvári C\n",
      "After: Szepesvári C\n",
      "After: French M, Szepesvári C, Rogers E\n",
      "After: Singh S, Jaakkola T, Littman M, Szepesvári C\n",
      "After: *Kalmár Z, Szepesvári C, Lörincz A\n",
      "After: Murvai J, Vlahovicek K, Barta E, Szepesvári C, Acatrinei C, Pongor S\n",
      "After: *Kalmár Z, Marczell Z, Szepesvári C, Lörincz A\n",
      "After: Szepesvári C, Littman M\n",
      "After: *Kalmar Z, Szepesvari C\n",
      "After: *Kalmar Z, Szepesvari C, Lorincz A\n",
      "After: Szepesvári C\n",
      "After: *Kalmár Z, Szepesvári C, Lörincz A\n",
      "After: Szepesvári C, Lörincz A\n",
      "After: *Kalmár Z, Szepesvári C, Lörincz A\n",
      "After: Szepesvári C, Cimmer S, Lörincz A\n",
      "After: Fomin T, Rozgonyi T, Szepesvári C, Lörincz A\n",
      "After: Szepesvári C, Lörincz A\n",
      "After: Szepesvári C, Balázs L, Lörincz A\n",
      "After: Szepesvári C, Lörincz A\n",
      "After: Kivinen J, Szepesvári C, Ukkonen E, Zeugmann T\n",
      "After: Szepesvári C\n",
      "After: Szepesvári C\n",
      "After: French M, Szepesvári C, Rogers E\n",
      "After: Szepesvári C\n",
      "After: Li L, Munos R, Szepesvári C\n",
      "After: *Shariff R, György A, Szepesvári C\n",
      "After: Kveton B, Wen Z, Ashkan A, Szepesvári C\n",
      "After: *Huang R, György A, Szepesvári C\n",
      "After: *Abbasi-Yadkori Y, Szepesvári C\n",
      "After: *Bálazs G, György A, Szepesvári C\n",
      "After: *Lattimore T, Crammer K, Szepesvári C\n",
      "After: Kveton B, Szepesvári C, Wen Z, Ashkan A\n",
      "After: Bard N, Nicholas D, Szepesvári C, Bowling M\n",
      "After: *Wu Y, György A, Szepesvári C\n",
      "After: *Joulani P, György A, Szepesvári C\n",
      "After: Kveton B, Wen Z, Ashkan A, Szepesvári C\n",
      "After: Hsu D, Kontorovich A, Szepesvári C\n",
      "After: *Wu Y, György A, Szepesvári C\n",
      "After: *Lattimore T, György A, Szepesvári C\n",
      "After: Dick T, György A, Szepesvári C\n",
      "After: *Huang R, Szepesvári C\n",
      "After: *Huang R, Szepesvári C\n",
      "After: *Yao H, Szepesvári C, Sutton R, Modayil J, Bhatnagar S\n",
      "After: *Lattimore T, Crammer K, Szepesvári C\n",
      "After: Neufeld J, György A, Szepesvári C, Schuurmans D\n",
      "After: *Yao H, Szepesvári C, *Pires B, Zhang X\n",
      "After: *Pires B, Szepesvári C, *Ghavamzadeh M\n",
      "After: *Abbasi-Yadkori Y, Bartlett P, Kanade V, Seldin Y, Szepesvári C\n",
      "After: *Afkanpour A, György A, Szepesvári C, Bowling M\n",
      "After: *Zolghadr N, *Bartók G, Greiner R, György A, Szepesvári C\n",
      "After: *Yu Y, *Cheng H, Schuurmans D, Szepesvári C\n",
      "After: *Joulani P, György A, Szepesvári C\n",
      "After: *Bartók G, *Zolghadr N, Szepesvári C\n",
      "After: *Yu Y, Szepesvári C\n",
      "After: *Kiros R, Szepesvári C\n",
      "After: Seldin Y, Szepesvári C, Auer P, *Abbasi-Yadkori Y\n",
      "After: *Pires B, Szepesvári C\n",
      "After: Deisenroth M, Szepesvári C, Peters J\n",
      "After: *Abbasi-Yadkori Y, *Pál D, Szepesvári C\n",
      "After: *Neu G, György A, Szepesvári C\n",
      "After: *Yao H, Szepesvári C\n",
      "After: *Bartók G, Szepesvári C\n",
      "After: *Abbasi-Yadkori Y, *Pál D, Szepesvári C\n",
      "After: Fard M, Pineau J, Szepesvári C\n",
      "After: *Szita I, Szepesvári C\n",
      "After: Arora P, Szepesvári C, Zheng R\n",
      "After: Szepesvári C\n",
      "After: Kivinen J, Szepesvári C, Ukkonen E, Zeugmann T\n",
      "After: *Bartók G, *Pál D, Szepesvári C\n",
      "After: *Abbasi-Yadkori Y, Szepesvári C\n",
      "After: Li L, *Póczos B, Szepesvári C, Greiner R\n",
      "After: *Maei H, Szepesvári C, Bhatnagar S, Sutton R\n",
      "After: *Torma P, György A, Szepesvári C\n",
      "After: *Bartók G, *Pál D, Szepesvári C\n",
      "After: *Pál D, *Póczos B, Szepesvári C\n",
      "After: Filippi S, Cappé O, Garivier A, Szepesvári C\n",
      "After: *Póczos B, Kirshner S, Szepesvári C\n",
      "After: *Szita I, Szepesvári C\n",
      "After: *Abbasi-Yadkori Y, Modayil J, Szepesvári C\n",
      "After: *Neu G, György A, Szepesvári C, Antos A\n",
      "After: *Farahmand A, Munos R, Szepesvári C\n",
      "After: *Neu G, György A, Szepesvári C\n",
      "After: Sutton R, *Maei H, Precup D, Bhatnagar S, Silver D, Szepesvári C, Wiewiora E\n",
      "After: *Maei H, Szepesvári C, Bhatnagar S, Precup D, Silver D, Sutton R\n",
      "After: *Yao H, Bhatnagar S, Szepesvári C\n",
      "After: *Yao H, Sutton R, Bhatnagar S, Dongcui D, Szepesvári C\n",
      "After: Li Y, Szepesvári C, Schuurmans D\n",
      "After: *Póczos B, *Abbasi-Yadkori Y, Szepesvári C, Greiner R, Sturtevant N\n",
      "After: Audibert J, Auer P, Lazaric A, Munos R, Ryabko D, Szepesvári C\n",
      "After: *Farhangfar A, Greiner R, Szepesvári C\n",
      "After: *Yu Y, Li Y, Schuurmans D, Szepesvári C\n",
      "After: *Farahmand A, Shademan A, Jagersand M, Szepesvári C\n",
      "After: Antos A, *Grover V, Szepesvári C\n",
      "After: Sutton R, Szepesvári C, Geramifard A, Bowling M\n",
      "After: Sutton R, Szepesvári C, *Maei H\n",
      "After: Bubeck S, Munos R, Stoltz G, Szepesvári C\n",
      "After: *Farahmand A, *Ghavamzadeh M, Szepesvári C, Mannor S\n",
      "After: *Isaza A, Szepesvári C, Bulitko V, Greiner R\n",
      "After: *Bartók G, Szepesvári C, Zilles S\n",
      "After: *Farahmand A, *Ghavamzadeh M, Szepesvári C, Mannor S\n",
      "After: *Mnih V, Szepesvári C, Audibert J\n",
      "After: *Neu G, Szepesvári C\n",
      "After: *Bíró I, *Szamonek Z, Szepesvári C\n",
      "After: György A, *Kocsis L, *Szabó I, Szepesvári C\n",
      "After: Antos A, Munos R, Szepesvári C\n",
      "After: *Farahmand A, Szepesvári C, Audibert J\n",
      "After: Auer P, Ortner R, Szepesvári C\n",
      "After: Audibert J, Munos R, Szepesvári C\n",
      "After: *Kocsis L, Szepesvári C\n",
      "After: Antos A, Szepesvári C, Munos R\n",
      "After: *Kocsis L, Szepesvári C, Winands M\n",
      "After: Szepesvári C, Munos R\n",
      "After: *Szamonek Z, Szepesvári C\n",
      "After: *Torma P, Szepesvári C\n",
      "After: Szepesvári C, Kocsor A, Kovács K\n",
      "After: Szepesvári C\n",
      "After: Kocsor A, Kovács K, Szepesvári C\n",
      "After: Szepesvári C, Smart W\n",
      "After: *Torma P, Szepesvári C\n",
      "After: Balogh G, Dobler E, Gröbler T, Smodics B, Szepesvári C\n",
      "After: *Gábor Z, *Kalmár Z, Szepesvári C\n",
      "After: Szepesvári C\n",
      "After: *Kalmár Z, Szepesvári C, Lörincz A\n",
      "After: Szepesvári C\n",
      "After: Szepesvári C, Lörincz A\n",
      "After: Littman M, Szepesvári C\n"
     ]
    }
   ],
   "source": [
    "HQP = [ 'Varun Grover', 'Farahmand A.m', 'Bartók G', 'Pál D', 'Zsolt Kalmár',\n",
    "            'Ivett Szabó',  'Zoltán Szamonek', \n",
    "            'Bernardo Avila Pires', \n",
    "            'Ghavamzadeh M', \n",
    "            'Yifan Wu', 'Gergely Neu', 'Amir Massoud Farahmand', \n",
    "            'Zoltán Gábor',  \n",
    "            'Pooria Joulani', 'Navid Zolghadr',  'Mohammad Ghavamzadeh', \n",
    "             'István Bíró', 'Levente Kocsis', 'Hengshuai Yao', \n",
    "            'Gábor Bálazs',  'Arash Afkanpour', 'Yaoliang Yu', 'Alejandro Isaza', \n",
    "            'Roshan Shariff', 'Istvan Szita', 'István Szita', 'Dávid Pál', \n",
    "             'Volodymyr Mnih', \n",
    "             'Ryan Kiros', \n",
    "            'Tor Lattimore', 'Yasin Abbasi-Yadkori', 'Zsolt Kalmar', 'Barnabás Póczos', \n",
    "            'Alireza Farhangfar', 'Hamid Reza Maei', \n",
    "             'Péter Torma',  'Gábor Bartók',  'Ruitong Huang', \n",
    "             ' Sandra Zilles',  'Hao Cheng' ]\n",
    "# Add * to the name of all students\n",
    "# Family name followed by a space and by the initial of the first name, without any punctuation.\n",
    "# In the case of several authors, use commas to separate their names. \n",
    "for pub_entry in publications:\n",
    "    for field in pub_entry:\n",
    "        if \"Authors\" in field.attrib['label']:\n",
    "            text = field[0].text.replace('*','') # get rid of existing asterisks\n",
    "#             print(text)\n",
    "            rev_order = False\n",
    "            if \",\" in text:\n",
    "                aus = text.split(',')\n",
    "                rev_order = True\n",
    "            else:\n",
    "                aus = re.split(\" and \",field[0].text)\n",
    "                if len(aus)==1:\n",
    "                    rev_order = (len(aus[0].split())==2 and aus[0].split()[1]==\"Cs\")\n",
    "                        \n",
    "#             print(\"Before:\",\", \".join(aus))\n",
    "            aus = list(map(str.strip,aus))\n",
    "#             print(\"Before2:\",\", \".join(aus))\n",
    "            aus2 = []\n",
    "            for au in aus:\n",
    "#                 print(au)\n",
    "                hqp_chr = \"*\" if au in HQP else \"\"\n",
    "                aunames = au.split()\n",
    "#                 print(aunames)\n",
    "                if rev_order:\n",
    "                    aus2.append(  hqp_chr + aunames[0] + \" \" + aunames[-1][0] )\n",
    "                else:\n",
    "                    aus2.append( hqp_chr + aunames[-1] + \" \" + aunames[0][0] )\n",
    "            newnames = \", \".join(aus2)\n",
    "            print(\"After:\", newnames)\n",
    "            text = newnames\n"
   ]
  },
  {
   "cell_type": "code",
   "execution_count": 271,
   "metadata": {
    "collapsed": false
   },
   "outputs": [
    {
     "name": "stdout",
     "output_type": "stream",
     "text": [
      "Accepted\n",
      "Adding lov\n",
      "Adding lov\n",
      "Published\n",
      "Published\n",
      "Adding lov\n",
      "Adding lov\n",
      "Adding lov\n",
      "Adding lov\n",
      "Adding lov\n",
      "Adding lov\n",
      "Adding lov\n",
      "Adding lov\n",
      "Adding lov\n",
      "Adding lov\n",
      "Adding lov\n",
      "Adding lov\n",
      "Adding lov\n",
      "Adding lov\n",
      "Adding lov\n",
      "Adding lov\n",
      "Adding lov\n",
      "Adding lov\n",
      "Adding lov\n",
      "Adding lov\n",
      "Adding lov\n",
      "Adding lov\n",
      "Adding lov\n",
      "Adding lov\n",
      "Adding lov\n",
      "Adding lov\n",
      "Adding lov\n",
      "Adding lov\n",
      "Adding lov\n",
      "Adding lov\n",
      "Adding lov\n",
      "Adding lov\n",
      "Adding lov\n",
      "Adding lov\n",
      "Adding lov\n",
      "Adding lov\n",
      "Published\n",
      "Published\n",
      "Adding status field\n",
      "Published\n",
      "Published\n",
      "Adding status field\n",
      "Adding status field\n",
      "Adding status field\n",
      "Adding status field\n",
      "Adding status field\n",
      "Adding status field\n",
      "Adding status field\n",
      "Adding status field\n",
      "Adding status field\n",
      "Adding status field\n",
      "Adding status field\n",
      "Adding status field\n",
      "Adding status field\n",
      "Adding status field\n",
      "Adding status field\n",
      "Adding status field\n",
      "Adding status field\n",
      "Adding status field\n",
      "Adding status field\n",
      "Adding status field\n",
      "Adding status field\n",
      "Adding status field\n",
      "Adding status field\n",
      "Adding status field\n",
      "Adding status field\n",
      "Adding status field\n",
      "Adding status field\n",
      "Adding status field\n",
      "Adding status field\n",
      "Adding status field\n",
      "Adding status field\n",
      "Adding status field\n",
      "Adding status field\n",
      "Adding status field\n",
      "Adding status field\n",
      "Adding status field\n",
      "Adding status field\n",
      "Adding status field\n",
      "Adding status field\n",
      "Adding status field\n",
      "Adding status field\n",
      "Adding status field\n",
      "Adding status field\n",
      "Adding status field\n",
      "Adding status field\n",
      "Adding status field\n",
      "Adding status field\n",
      "Adding status field\n",
      "Adding status field\n",
      "Adding status field\n",
      "Adding status field\n",
      "Adding status field\n",
      "Adding status field\n",
      "Adding status field\n",
      "Adding status field\n",
      "Adding status field\n",
      "Adding status field\n",
      "Adding status field\n",
      "Adding status field\n",
      "Adding status field\n",
      "Adding status field\n",
      "Adding status field\n",
      "Adding status field\n",
      "Adding status field\n",
      "Adding status field\n",
      "Adding status field\n",
      "Adding status field\n",
      "Adding status field\n",
      "Adding status field\n",
      "Adding status field\n",
      "Adding status field\n",
      "Adding status field\n",
      "Adding status field\n",
      "Adding status field\n",
      "Adding status field\n",
      "Adding status field\n",
      "Adding status field\n",
      "Adding status field\n",
      "Adding status field\n",
      "Adding status field\n",
      "Adding status field\n",
      "Adding status field\n",
      "Adding status field\n",
      "Adding status field\n",
      "Adding status field\n",
      "Adding status field\n",
      "Adding status field\n",
      "Adding status field\n",
      "Adding status field\n",
      "Adding status field\n",
      "Adding status field\n",
      "Adding status field\n",
      "Adding status field\n",
      "Adding status field\n",
      "Adding status field\n",
      "Adding status field\n",
      "Adding status field\n",
      "Adding status field\n",
      "Adding status field\n",
      "Adding status field\n",
      "Adding status field\n",
      "Adding status field\n"
     ]
    }
   ],
   "source": [
    "# change publishing status:\n",
    "# <field id=\"3b56e4362d6a495aa5d22a1de5914741\" label=\"Publishing Status\"/>\n",
    "# <lov id=\"00000000000000000000000100001704\">Published</lov>\n",
    "uuid_pubd = '3b56e4362d6a495aa5d22a1de5914741'\n",
    "\n",
    "for pub_entry in publications:\n",
    "    for field in pub_entry:\n",
    "        if \"Publishing Status\" in field.attrib['label']:\n",
    "            if field:\n",
    "                print(field[0].text)\n",
    "                if field[0].text is None:\n",
    "                    field[0].text = \"Published\"\n",
    "            else:\n",
    "                print(\"Adding lov\")\n",
    "                pubd = ET.SubElement( field, 'lov', {'id': '00000000000000000000000100001704'} )\n",
    "                pubd.text = \"Published\"\n",
    "#             field[0].text = \"Yes\"\n",
    "            break\n",
    "    else:\n",
    "        print(\"Adding status field\")\n",
    "        refd_field = ET.SubElement( pub_entry, 'field', {'id': uuid_pubd, 'label':'Publishing Status'} )\n",
    "        refd       = ET.SubElement( refd_field, 'lov', {'id': '00000000000000000000000100001704'} )\n",
    "        refd.text = \"Published\"\n"
   ]
  },
  {
   "cell_type": "code",
   "execution_count": 276,
   "metadata": {
    "collapsed": false
   },
   "outputs": [],
   "source": [
    "# Need to set Conference Publication Type:\n",
    "# <field id=\"81ef87c09ded47ae8880b8d79e83406f\" label=\"Conference Publication Type\">\n",
    "# <lov id=\"00000000000000000000000100007000\">Paper</lov></field>\n",
    "\n",
    "def set_entry_lov_value( \n",
    "               publications, trigger = \"Conference Publication Type\"\n",
    "             , uuid_pubd =  '81ef87c09ded47ae8880b8d79e83406f'\n",
    "             , value_to_set = \"Paper\"\n",
    "             , lov_field_id = '00000000000000000000000100007000'\n",
    "             ):\n",
    "    for pub_entry in publications:            \n",
    "        for field in pub_entry:\n",
    "            if trigger in field.attrib['label']:\n",
    "                if field:\n",
    "#                     print(field[0].text)\n",
    "                    if field[0].text is None:\n",
    "                        field[0].text = value_to_set\n",
    "                else:\n",
    "#                     print(\"Adding lov\")\n",
    "                    pubd = ET.SubElement( field, 'lov', {'id': lov_field_id} )\n",
    "                    pubd.text = value_to_set\n",
    "    #             field[0].text = \"Yes\"\n",
    "                break\n",
    "        else:\n",
    "#             print(\"Adding status field\")\n",
    "            refd_field = ET.SubElement( pub_entry, 'field', {'id': uuid_pubd, 'label':trigger} )\n",
    "            refd       = ET.SubElement( refd_field, 'lov', {'id': lov_field_id} )\n",
    "            refd.text = value_to_set\n",
    "            \n",
    "            \n",
    "set_entry_lov_value( publications, \"Conference Publication Type\", '81ef87c09ded47ae8880b8d79e83406f',\n",
    "               \"Paper\", '00000000000000000000000100007000')            "
   ]
  },
  {
   "cell_type": "code",
   "execution_count": 281,
   "metadata": {
    "collapsed": false
   },
   "outputs": [],
   "source": [
    "# For \"Conference Publications\":\n",
    "#   The Publishing Status uuid is \"080301b1f1c0464bba7fcfa1fa8fe182\"\n",
    "#   The Refereed Status uuid is \"560a2ce08e14497ba575af760eb12ba9\"\n",
    "\n",
    "for pub_entry in publications:\n",
    "    if pub_entry.attrib['label']==\"Conference Publications\":\n",
    "        for field in pub_entry:\n",
    "            if \"Publishing Status\" in field.attrib['label']:\n",
    "                field.attrib['id'] = \"080301b1f1c0464bba7fcfa1fa8fe182\"\n",
    "#                 print('!')\n",
    "            if \"Refereed?\" in field.attrib['label']:\n",
    "                field.attrib['id'] = \"560a2ce08e14497ba575af760eb12ba9\"\n",
    "#                 print('!!')\n",
    "\n",
    "                \n"
   ]
  },
  {
   "cell_type": "code",
   "execution_count": 282,
   "metadata": {
    "collapsed": true
   },
   "outputs": [],
   "source": [
    "# Need to set \"Conference Name\" / \"b3c8a60c053a405597b92899d95765a3\":\n",
    "# <field id=\"b3c8a60c053a405597b92899d95765a3\" label=\"Conference Name\">\n",
    "#    <value type=\"String\">NIPS</value>\n",
    "# </field>\n",
    "\t\n",
    "def set_entry_value( \n",
    "               publications, trigger = \"Conference Name\"\n",
    "             , uuid_pubd =  'b3c8a60c053a405597b92899d95765a3'\n",
    "             , value_to_set = \"NIPS\"\n",
    "             ):\n",
    "    for pub_entry in publications:            \n",
    "        for field in pub_entry:\n",
    "            if trigger in field.attrib['label']:\n",
    "                if field:\n",
    "#                     print(field[0].text)\n",
    "                    if field[0].text is None:\n",
    "                        field[0].text = value_to_set\n",
    "                else:\n",
    "#                     print(\"Adding lov\")\n",
    "                    pubd = ET.SubElement( field, 'value', {'type': \"String\"} )\n",
    "                    pubd.text = value_to_set\n",
    "    #             field[0].text = \"Yes\"\n",
    "                break\n",
    "        else:\n",
    "#             print(\"Adding status field\")\n",
    "            refd_field = ET.SubElement( pub_entry, 'field', {'id': uuid_pubd, 'label':trigger} )\n",
    "            refd       = ET.SubElement( refd_field, 'value', {'type': \"String\"} )\n",
    "            refd.text = value_to_set\n",
    "\n",
    "set_entry_value( publications, \"Conference Name\", 'b3c8a60c053a405597b92899d95765a3',\n",
    "               \"Conference-Name\")                  "
   ]
  },
  {
   "cell_type": "code",
   "execution_count": 285,
   "metadata": {
    "collapsed": true
   },
   "outputs": [],
   "source": [
    "import bibtexparser\n",
    "# see https://bibtexparser.readthedocs.org/en/v0.6.2/index.html\n",
    "\n",
    "with open('Szepesv=aacute=ri_Csaba(2).bib') as bibtex_file:\n",
    "    bib_database = bibtexparser.load(bibtex_file)\n"
   ]
  },
  {
   "cell_type": "code",
   "execution_count": 286,
   "metadata": {
    "collapsed": false
   },
   "outputs": [
    {
     "data": {
      "text/plain": [
       "170"
      ]
     },
     "execution_count": 286,
     "metadata": {},
     "output_type": "execute_result"
    }
   ],
   "source": [
    "len(bib_database.entries)"
   ]
  },
  {
   "cell_type": "code",
   "execution_count": 304,
   "metadata": {
    "collapsed": false
   },
   "outputs": [
    {
     "name": "stdout",
     "output_type": "stream",
     "text": [
      "102\n"
     ]
    }
   ],
   "source": [
    "# build dictionary mapping conference publication titles to venues\n",
    "conftitle2venue = {}\n",
    "for entry in bib_database.entries:\n",
    "    if entry['ENTRYTYPE']==\"inproceedings\":\n",
    "        title = entry['title'].replace(\"\\n\",\" \")\n",
    "        venue = entry['booktitle'].replace(\"{\",\"\").replace(\"}\",\"\").replace(\"\\n\",\" \")\n",
    "        if title in conftitle2venue:\n",
    "            print(\"Dup!\",title,entry)\n",
    "        else:\n",
    "            conftitle2venue[title]=venue\n",
    "print(len(conftitle2venue))"
   ]
  },
  {
   "cell_type": "code",
   "execution_count": 310,
   "metadata": {
    "collapsed": false
   },
   "outputs": [],
   "source": [
    "for pub_entry in publications:\n",
    "    if pub_entry.attrib['label']==\"Conference Publications\":\n",
    "        venue = \"NONAME\"\n",
    "        for field in pub_entry:\n",
    "            if \"Publication Title\" in field.attrib['label']:\n",
    "                title = field[0].text\n",
    "#                 print(title)\n",
    "                if not title in conftitle2venue:\n",
    "                    print(\"???\",title)\n",
    "                else:\n",
    "                    venue = conftitle2venue[title]\n",
    "                break\n",
    "        else:\n",
    "            print(\"No title!!?!?\")\n",
    "        for field in pub_entry:\n",
    "            if \"Conference Name\" in field.attrib['label']:\n",
    "#                 print(\"Setting venue to\",venue)\n",
    "                field[0].text = venue\n"
   ]
  },
  {
   "cell_type": "code",
   "execution_count": 311,
   "metadata": {
    "collapsed": true
   },
   "outputs": [],
   "source": [
    "# Write out the new XML file\n",
    "tree.write('new.xml')"
   ]
  },
  {
   "cell_type": "code",
   "execution_count": 206,
   "metadata": {
    "collapsed": false
   },
   "outputs": [
    {
     "data": {
      "text/plain": [
       "['Csaba', 'David']"
      ]
     },
     "execution_count": 206,
     "metadata": {},
     "output_type": "execute_result"
    }
   ],
   "source": [
    "import re\n",
    "re.split(\" and \",\"Csaba and David\")"
   ]
  },
  {
   "cell_type": "code",
   "execution_count": 213,
   "metadata": {
    "collapsed": false
   },
   "outputs": [
    {
     "data": {
      "text/plain": [
       "'s'"
      ]
     },
     "execution_count": 213,
     "metadata": {},
     "output_type": "execute_result"
    }
   ],
   "source": [
    "str.strip(\" s \")"
   ]
  },
  {
   "cell_type": "code",
   "execution_count": 277,
   "metadata": {
    "collapsed": false
   },
   "outputs": [
    {
     "data": {
      "text/plain": [
       "'21cf2282bf5e4da293b6c54b02da5410'"
      ]
     },
     "execution_count": 277,
     "metadata": {},
     "output_type": "execute_result"
    }
   ],
   "source": [
    "uuid.uuid4().hex"
   ]
  },
  {
   "cell_type": "code",
   "execution_count": null,
   "metadata": {
    "collapsed": true
   },
   "outputs": [],
   "source": []
  }
 ],
 "metadata": {
  "kernelspec": {
   "display_name": "Python 3",
   "language": "python",
   "name": "python3"
  },
  "language_info": {
   "codemirror_mode": {
    "name": "ipython",
    "version": 3
   },
   "file_extension": ".py",
   "mimetype": "text/x-python",
   "name": "python",
   "nbconvert_exporter": "python",
   "pygments_lexer": "ipython3",
   "version": "3.4.4"
  }
 },
 "nbformat": 4,
 "nbformat_minor": 0
}
